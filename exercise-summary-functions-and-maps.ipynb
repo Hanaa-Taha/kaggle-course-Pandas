{
 "cells": [
  {
   "cell_type": "markdown",
   "id": "3072e89b",
   "metadata": {
    "papermill": {
     "duration": 0.024864,
     "end_time": "2022-02-19T17:38:09.028473",
     "exception": false,
     "start_time": "2022-02-19T17:38:09.003609",
     "status": "completed"
    },
    "tags": []
   },
   "source": [
    "**This notebook is an exercise in the [Pandas](https://www.kaggle.com/learn/pandas) course.  You can reference the tutorial at [this link](https://www.kaggle.com/residentmario/summary-functions-and-maps).**\n",
    "\n",
    "---\n"
   ]
  },
  {
   "cell_type": "markdown",
   "id": "9a31a42f",
   "metadata": {
    "papermill": {
     "duration": 0.022215,
     "end_time": "2022-02-19T17:38:09.076024",
     "exception": false,
     "start_time": "2022-02-19T17:38:09.053809",
     "status": "completed"
    },
    "tags": []
   },
   "source": [
    "# Introduction\n",
    "\n",
    "Now you are ready to get a deeper understanding of your data.\n",
    "\n",
    "Run the following cell to load your data and some utility functions (including code to check your answers)."
   ]
  },
  {
   "cell_type": "code",
   "execution_count": 1,
   "id": "877e0b3e",
   "metadata": {
    "execution": {
     "iopub.execute_input": "2022-02-19T17:38:09.135463Z",
     "iopub.status.busy": "2022-02-19T17:38:09.134638Z",
     "iopub.status.idle": "2022-02-19T17:38:17.744321Z",
     "shell.execute_reply": "2022-02-19T17:38:17.744842Z",
     "shell.execute_reply.started": "2022-02-19T16:56:09.281566Z"
    },
    "papermill": {
     "duration": 8.646839,
     "end_time": "2022-02-19T17:38:17.745368",
     "exception": false,
     "start_time": "2022-02-19T17:38:09.098529",
     "status": "completed"
    },
    "tags": []
   },
   "outputs": [
    {
     "name": "stdout",
     "output_type": "stream",
     "text": [
      "Setup complete.\n"
     ]
    },
    {
     "data": {
      "text/html": [
       "<div>\n",
       "<style scoped>\n",
       "    .dataframe tbody tr th:only-of-type {\n",
       "        vertical-align: middle;\n",
       "    }\n",
       "\n",
       "    .dataframe tbody tr th {\n",
       "        vertical-align: top;\n",
       "    }\n",
       "\n",
       "    .dataframe thead th {\n",
       "        text-align: right;\n",
       "    }\n",
       "</style>\n",
       "<table border=\"1\" class=\"dataframe\">\n",
       "  <thead>\n",
       "    <tr style=\"text-align: right;\">\n",
       "      <th></th>\n",
       "      <th>country</th>\n",
       "      <th>description</th>\n",
       "      <th>designation</th>\n",
       "      <th>points</th>\n",
       "      <th>price</th>\n",
       "      <th>province</th>\n",
       "      <th>region_1</th>\n",
       "      <th>region_2</th>\n",
       "      <th>taster_name</th>\n",
       "      <th>taster_twitter_handle</th>\n",
       "      <th>title</th>\n",
       "      <th>variety</th>\n",
       "      <th>winery</th>\n",
       "    </tr>\n",
       "  </thead>\n",
       "  <tbody>\n",
       "    <tr>\n",
       "      <th>0</th>\n",
       "      <td>Italy</td>\n",
       "      <td>Aromas include tropical fruit, broom, brimston...</td>\n",
       "      <td>Vulkà Bianco</td>\n",
       "      <td>87</td>\n",
       "      <td>NaN</td>\n",
       "      <td>Sicily &amp; Sardinia</td>\n",
       "      <td>Etna</td>\n",
       "      <td>NaN</td>\n",
       "      <td>Kerin O’Keefe</td>\n",
       "      <td>@kerinokeefe</td>\n",
       "      <td>Nicosia 2013 Vulkà Bianco  (Etna)</td>\n",
       "      <td>White Blend</td>\n",
       "      <td>Nicosia</td>\n",
       "    </tr>\n",
       "    <tr>\n",
       "      <th>1</th>\n",
       "      <td>Portugal</td>\n",
       "      <td>This is ripe and fruity, a wine that is smooth...</td>\n",
       "      <td>Avidagos</td>\n",
       "      <td>87</td>\n",
       "      <td>15.0</td>\n",
       "      <td>Douro</td>\n",
       "      <td>NaN</td>\n",
       "      <td>NaN</td>\n",
       "      <td>Roger Voss</td>\n",
       "      <td>@vossroger</td>\n",
       "      <td>Quinta dos Avidagos 2011 Avidagos Red (Douro)</td>\n",
       "      <td>Portuguese Red</td>\n",
       "      <td>Quinta dos Avidagos</td>\n",
       "    </tr>\n",
       "    <tr>\n",
       "      <th>2</th>\n",
       "      <td>US</td>\n",
       "      <td>Tart and snappy, the flavors of lime flesh and...</td>\n",
       "      <td>NaN</td>\n",
       "      <td>87</td>\n",
       "      <td>14.0</td>\n",
       "      <td>Oregon</td>\n",
       "      <td>Willamette Valley</td>\n",
       "      <td>Willamette Valley</td>\n",
       "      <td>Paul Gregutt</td>\n",
       "      <td>@paulgwine</td>\n",
       "      <td>Rainstorm 2013 Pinot Gris (Willamette Valley)</td>\n",
       "      <td>Pinot Gris</td>\n",
       "      <td>Rainstorm</td>\n",
       "    </tr>\n",
       "    <tr>\n",
       "      <th>3</th>\n",
       "      <td>US</td>\n",
       "      <td>Pineapple rind, lemon pith and orange blossom ...</td>\n",
       "      <td>Reserve Late Harvest</td>\n",
       "      <td>87</td>\n",
       "      <td>13.0</td>\n",
       "      <td>Michigan</td>\n",
       "      <td>Lake Michigan Shore</td>\n",
       "      <td>NaN</td>\n",
       "      <td>Alexander Peartree</td>\n",
       "      <td>NaN</td>\n",
       "      <td>St. Julian 2013 Reserve Late Harvest Riesling ...</td>\n",
       "      <td>Riesling</td>\n",
       "      <td>St. Julian</td>\n",
       "    </tr>\n",
       "    <tr>\n",
       "      <th>4</th>\n",
       "      <td>US</td>\n",
       "      <td>Much like the regular bottling from 2012, this...</td>\n",
       "      <td>Vintner's Reserve Wild Child Block</td>\n",
       "      <td>87</td>\n",
       "      <td>65.0</td>\n",
       "      <td>Oregon</td>\n",
       "      <td>Willamette Valley</td>\n",
       "      <td>Willamette Valley</td>\n",
       "      <td>Paul Gregutt</td>\n",
       "      <td>@paulgwine</td>\n",
       "      <td>Sweet Cheeks 2012 Vintner's Reserve Wild Child...</td>\n",
       "      <td>Pinot Noir</td>\n",
       "      <td>Sweet Cheeks</td>\n",
       "    </tr>\n",
       "  </tbody>\n",
       "</table>\n",
       "</div>"
      ],
      "text/plain": [
       "    country                                        description  \\\n",
       "0     Italy  Aromas include tropical fruit, broom, brimston...   \n",
       "1  Portugal  This is ripe and fruity, a wine that is smooth...   \n",
       "2        US  Tart and snappy, the flavors of lime flesh and...   \n",
       "3        US  Pineapple rind, lemon pith and orange blossom ...   \n",
       "4        US  Much like the regular bottling from 2012, this...   \n",
       "\n",
       "                          designation  points  price           province  \\\n",
       "0                        Vulkà Bianco      87    NaN  Sicily & Sardinia   \n",
       "1                            Avidagos      87   15.0              Douro   \n",
       "2                                 NaN      87   14.0             Oregon   \n",
       "3                Reserve Late Harvest      87   13.0           Michigan   \n",
       "4  Vintner's Reserve Wild Child Block      87   65.0             Oregon   \n",
       "\n",
       "              region_1           region_2         taster_name  \\\n",
       "0                 Etna                NaN       Kerin O’Keefe   \n",
       "1                  NaN                NaN          Roger Voss   \n",
       "2    Willamette Valley  Willamette Valley        Paul Gregutt   \n",
       "3  Lake Michigan Shore                NaN  Alexander Peartree   \n",
       "4    Willamette Valley  Willamette Valley        Paul Gregutt   \n",
       "\n",
       "  taster_twitter_handle                                              title  \\\n",
       "0          @kerinokeefe                  Nicosia 2013 Vulkà Bianco  (Etna)   \n",
       "1            @vossroger      Quinta dos Avidagos 2011 Avidagos Red (Douro)   \n",
       "2           @paulgwine       Rainstorm 2013 Pinot Gris (Willamette Valley)   \n",
       "3                   NaN  St. Julian 2013 Reserve Late Harvest Riesling ...   \n",
       "4           @paulgwine   Sweet Cheeks 2012 Vintner's Reserve Wild Child...   \n",
       "\n",
       "          variety               winery  \n",
       "0     White Blend              Nicosia  \n",
       "1  Portuguese Red  Quinta dos Avidagos  \n",
       "2      Pinot Gris            Rainstorm  \n",
       "3        Riesling           St. Julian  \n",
       "4      Pinot Noir         Sweet Cheeks  "
      ]
     },
     "execution_count": 1,
     "metadata": {},
     "output_type": "execute_result"
    }
   ],
   "source": [
    "import pandas as pd\n",
    "pd.set_option(\"display.max_rows\", 5)\n",
    "reviews = pd.read_csv(\"../input/wine-reviews/winemag-data-130k-v2.csv\", index_col=0)\n",
    "\n",
    "from learntools.core import binder; binder.bind(globals())\n",
    "from learntools.pandas.summary_functions_and_maps import *\n",
    "print(\"Setup complete.\")\n",
    "\n",
    "reviews.head()"
   ]
  },
  {
   "cell_type": "markdown",
   "id": "f1e09363",
   "metadata": {
    "papermill": {
     "duration": 0.023336,
     "end_time": "2022-02-19T17:38:17.792559",
     "exception": false,
     "start_time": "2022-02-19T17:38:17.769223",
     "status": "completed"
    },
    "tags": []
   },
   "source": [
    "# Exercises"
   ]
  },
  {
   "cell_type": "markdown",
   "id": "de84f943",
   "metadata": {
    "papermill": {
     "duration": 0.024187,
     "end_time": "2022-02-19T17:38:17.840327",
     "exception": false,
     "start_time": "2022-02-19T17:38:17.816140",
     "status": "completed"
    },
    "tags": []
   },
   "source": [
    "## 1.\n",
    "\n",
    "What is the median of the `points` column in the `reviews` DataFrame?"
   ]
  },
  {
   "cell_type": "code",
   "execution_count": 2,
   "id": "d18c92fd",
   "metadata": {
    "execution": {
     "iopub.execute_input": "2022-02-19T17:38:17.894107Z",
     "iopub.status.busy": "2022-02-19T17:38:17.893362Z",
     "iopub.status.idle": "2022-02-19T17:38:17.902693Z",
     "shell.execute_reply": "2022-02-19T17:38:17.901989Z",
     "shell.execute_reply.started": "2022-02-19T16:58:48.052816Z"
    },
    "papermill": {
     "duration": 0.03812,
     "end_time": "2022-02-19T17:38:17.902850",
     "exception": false,
     "start_time": "2022-02-19T17:38:17.864730",
     "status": "completed"
    },
    "tags": []
   },
   "outputs": [
    {
     "data": {
      "application/javascript": [
       "parent.postMessage({\"jupyterEvent\": \"custom.exercise_interaction\", \"data\": {\"outcomeType\": 1, \"valueTowardsCompletion\": 0.14285714285714285, \"interactionType\": 1, \"questionType\": 1, \"questionId\": \"1_MedianPoints\", \"learnToolsVersion\": \"0.3.4\", \"failureMessage\": \"\", \"exceptionClass\": \"\", \"trace\": \"\"}}, \"*\")"
      ],
      "text/plain": [
       "<IPython.core.display.Javascript object>"
      ]
     },
     "metadata": {},
     "output_type": "display_data"
    },
    {
     "data": {
      "text/markdown": [
       "<span style=\"color:#33cc33\">Correct</span>"
      ],
      "text/plain": [
       "Correct"
      ]
     },
     "metadata": {},
     "output_type": "display_data"
    },
    {
     "data": {
      "text/plain": [
       "88.0"
      ]
     },
     "execution_count": 2,
     "metadata": {},
     "output_type": "execute_result"
    }
   ],
   "source": [
    "median_points = reviews.points.median()\n",
    "\n",
    "# Check your answer\n",
    "q1.check()\n",
    "median_points"
   ]
  },
  {
   "cell_type": "code",
   "execution_count": 3,
   "id": "2919ef2e",
   "metadata": {
    "execution": {
     "iopub.execute_input": "2022-02-19T17:38:17.958506Z",
     "iopub.status.busy": "2022-02-19T17:38:17.957762Z",
     "iopub.status.idle": "2022-02-19T17:38:17.962302Z",
     "shell.execute_reply": "2022-02-19T17:38:17.961655Z"
    },
    "papermill": {
     "duration": 0.03423,
     "end_time": "2022-02-19T17:38:17.962447",
     "exception": false,
     "start_time": "2022-02-19T17:38:17.928217",
     "status": "completed"
    },
    "tags": []
   },
   "outputs": [],
   "source": [
    "#q1.hint()\n",
    "#q1.solution()"
   ]
  },
  {
   "cell_type": "markdown",
   "id": "98f1b4d8",
   "metadata": {
    "papermill": {
     "duration": 0.028827,
     "end_time": "2022-02-19T17:38:18.017272",
     "exception": false,
     "start_time": "2022-02-19T17:38:17.988445",
     "status": "completed"
    },
    "tags": []
   },
   "source": [
    "## 2. \n",
    "What countries are represented in the dataset? (Your answer should not include any duplicates.)"
   ]
  },
  {
   "cell_type": "code",
   "execution_count": 4,
   "id": "cd77f6f2",
   "metadata": {
    "execution": {
     "iopub.execute_input": "2022-02-19T17:38:18.076051Z",
     "iopub.status.busy": "2022-02-19T17:38:18.075341Z",
     "iopub.status.idle": "2022-02-19T17:38:18.097205Z",
     "shell.execute_reply": "2022-02-19T17:38:18.097747Z",
     "shell.execute_reply.started": "2022-02-19T17:05:37.125248Z"
    },
    "papermill": {
     "duration": 0.051895,
     "end_time": "2022-02-19T17:38:18.097930",
     "exception": false,
     "start_time": "2022-02-19T17:38:18.046035",
     "status": "completed"
    },
    "tags": []
   },
   "outputs": [
    {
     "data": {
      "application/javascript": [
       "parent.postMessage({\"jupyterEvent\": \"custom.exercise_interaction\", \"data\": {\"outcomeType\": 1, \"valueTowardsCompletion\": 0.14285714285714285, \"interactionType\": 1, \"questionType\": 2, \"questionId\": \"2_UniqueCountries\", \"learnToolsVersion\": \"0.3.4\", \"failureMessage\": \"\", \"exceptionClass\": \"\", \"trace\": \"\"}}, \"*\")"
      ],
      "text/plain": [
       "<IPython.core.display.Javascript object>"
      ]
     },
     "metadata": {},
     "output_type": "display_data"
    },
    {
     "data": {
      "text/markdown": [
       "<span style=\"color:#33cc33\">Correct</span>"
      ],
      "text/plain": [
       "Correct"
      ]
     },
     "metadata": {},
     "output_type": "display_data"
    },
    {
     "data": {
      "text/plain": [
       "array(['Italy', 'Portugal', 'US', 'Spain', 'France', 'Germany',\n",
       "       'Argentina', 'Chile', 'Australia', 'Austria', 'South Africa',\n",
       "       'New Zealand', 'Israel', 'Hungary', 'Greece', 'Romania', 'Mexico',\n",
       "       'Canada', nan, 'Turkey', 'Czech Republic', 'Slovenia',\n",
       "       'Luxembourg', 'Croatia', 'Georgia', 'Uruguay', 'England',\n",
       "       'Lebanon', 'Serbia', 'Brazil', 'Moldova', 'Morocco', 'Peru',\n",
       "       'India', 'Bulgaria', 'Cyprus', 'Armenia', 'Switzerland',\n",
       "       'Bosnia and Herzegovina', 'Ukraine', 'Slovakia', 'Macedonia',\n",
       "       'China', 'Egypt'], dtype=object)"
      ]
     },
     "execution_count": 4,
     "metadata": {},
     "output_type": "execute_result"
    }
   ],
   "source": [
    "countries = reviews.country.unique()\n",
    "\n",
    "# Check your answer\n",
    "q2.check()\n",
    "countries"
   ]
  },
  {
   "cell_type": "code",
   "execution_count": 5,
   "id": "3311e3a7",
   "metadata": {
    "execution": {
     "iopub.execute_input": "2022-02-19T17:38:18.157876Z",
     "iopub.status.busy": "2022-02-19T17:38:18.157154Z",
     "iopub.status.idle": "2022-02-19T17:38:18.160166Z",
     "shell.execute_reply": "2022-02-19T17:38:18.160702Z"
    },
    "papermill": {
     "duration": 0.034027,
     "end_time": "2022-02-19T17:38:18.160886",
     "exception": false,
     "start_time": "2022-02-19T17:38:18.126859",
     "status": "completed"
    },
    "tags": []
   },
   "outputs": [],
   "source": [
    "#q2.hint()\n",
    "#q2.solution()"
   ]
  },
  {
   "cell_type": "markdown",
   "id": "4c2b9c15",
   "metadata": {
    "papermill": {
     "duration": 0.026646,
     "end_time": "2022-02-19T17:38:18.215278",
     "exception": false,
     "start_time": "2022-02-19T17:38:18.188632",
     "status": "completed"
    },
    "tags": []
   },
   "source": [
    "## 3.\n",
    "How often does each country appear in the dataset? Create a Series `reviews_per_country` mapping countries to the count of reviews of wines from that country."
   ]
  },
  {
   "cell_type": "code",
   "execution_count": 6,
   "id": "1de9900e",
   "metadata": {
    "execution": {
     "iopub.execute_input": "2022-02-19T17:38:18.278655Z",
     "iopub.status.busy": "2022-02-19T17:38:18.277940Z",
     "iopub.status.idle": "2022-02-19T17:38:18.307697Z",
     "shell.execute_reply": "2022-02-19T17:38:18.308295Z",
     "shell.execute_reply.started": "2022-02-19T17:07:26.754678Z"
    },
    "papermill": {
     "duration": 0.064476,
     "end_time": "2022-02-19T17:38:18.308475",
     "exception": false,
     "start_time": "2022-02-19T17:38:18.243999",
     "status": "completed"
    },
    "tags": []
   },
   "outputs": [
    {
     "data": {
      "application/javascript": [
       "parent.postMessage({\"jupyterEvent\": \"custom.exercise_interaction\", \"data\": {\"outcomeType\": 1, \"valueTowardsCompletion\": 0.14285714285714285, \"interactionType\": 1, \"questionType\": 1, \"questionId\": \"3_ReviewsPerCountry\", \"learnToolsVersion\": \"0.3.4\", \"failureMessage\": \"\", \"exceptionClass\": \"\", \"trace\": \"\"}}, \"*\")"
      ],
      "text/plain": [
       "<IPython.core.display.Javascript object>"
      ]
     },
     "metadata": {},
     "output_type": "display_data"
    },
    {
     "data": {
      "text/markdown": [
       "<span style=\"color:#33cc33\">Correct</span>"
      ],
      "text/plain": [
       "Correct"
      ]
     },
     "metadata": {},
     "output_type": "display_data"
    },
    {
     "data": {
      "text/plain": [
       "US        54504\n",
       "France    22093\n",
       "          ...  \n",
       "China         1\n",
       "Egypt         1\n",
       "Name: country, Length: 43, dtype: int64"
      ]
     },
     "execution_count": 6,
     "metadata": {},
     "output_type": "execute_result"
    }
   ],
   "source": [
    "reviews_per_country = reviews.country.value_counts()\n",
    "\n",
    "# Check your answer\n",
    "q3.check()\n",
    "reviews_per_country"
   ]
  },
  {
   "cell_type": "code",
   "execution_count": 7,
   "id": "2435554e",
   "metadata": {
    "execution": {
     "iopub.execute_input": "2022-02-19T17:38:18.377422Z",
     "iopub.status.busy": "2022-02-19T17:38:18.376645Z",
     "iopub.status.idle": "2022-02-19T17:38:18.380153Z",
     "shell.execute_reply": "2022-02-19T17:38:18.380748Z"
    },
    "papermill": {
     "duration": 0.040846,
     "end_time": "2022-02-19T17:38:18.380935",
     "exception": false,
     "start_time": "2022-02-19T17:38:18.340089",
     "status": "completed"
    },
    "tags": []
   },
   "outputs": [],
   "source": [
    "#q3.hint()\n",
    "#q3.solution()"
   ]
  },
  {
   "cell_type": "markdown",
   "id": "cd09972f",
   "metadata": {
    "papermill": {
     "duration": 0.035525,
     "end_time": "2022-02-19T17:38:18.452365",
     "exception": false,
     "start_time": "2022-02-19T17:38:18.416840",
     "status": "completed"
    },
    "tags": []
   },
   "source": [
    "## 4.\n",
    "Create variable `centered_price` containing a version of the `price` column with the mean price subtracted.\n",
    "\n",
    "(Note: this 'centering' transformation is a common preprocessing step before applying various machine learning algorithms.) "
   ]
  },
  {
   "cell_type": "code",
   "execution_count": 8,
   "id": "6889a037",
   "metadata": {
    "execution": {
     "iopub.execute_input": "2022-02-19T17:38:18.523004Z",
     "iopub.status.busy": "2022-02-19T17:38:18.521987Z",
     "iopub.status.idle": "2022-02-19T17:38:18.528741Z",
     "shell.execute_reply": "2022-02-19T17:38:18.529309Z",
     "shell.execute_reply.started": "2022-02-19T17:10:35.478530Z"
    },
    "papermill": {
     "duration": 0.044385,
     "end_time": "2022-02-19T17:38:18.529504",
     "exception": false,
     "start_time": "2022-02-19T17:38:18.485119",
     "status": "completed"
    },
    "tags": []
   },
   "outputs": [
    {
     "data": {
      "application/javascript": [
       "parent.postMessage({\"jupyterEvent\": \"custom.exercise_interaction\", \"data\": {\"outcomeType\": 1, \"valueTowardsCompletion\": 0.14285714285714285, \"interactionType\": 1, \"questionType\": 1, \"questionId\": \"4_CenteredPrice\", \"learnToolsVersion\": \"0.3.4\", \"failureMessage\": \"\", \"exceptionClass\": \"\", \"trace\": \"\"}}, \"*\")"
      ],
      "text/plain": [
       "<IPython.core.display.Javascript object>"
      ]
     },
     "metadata": {},
     "output_type": "display_data"
    },
    {
     "data": {
      "text/markdown": [
       "<span style=\"color:#33cc33\">Correct</span>"
      ],
      "text/plain": [
       "Correct"
      ]
     },
     "metadata": {},
     "output_type": "display_data"
    }
   ],
   "source": [
    "centered_price = reviews.price -reviews.price.mean()\n",
    "\n",
    "# Check your answer\n",
    "q4.check()"
   ]
  },
  {
   "cell_type": "code",
   "execution_count": 9,
   "id": "b116118a",
   "metadata": {
    "execution": {
     "iopub.execute_input": "2022-02-19T17:38:18.600509Z",
     "iopub.status.busy": "2022-02-19T17:38:18.599741Z",
     "iopub.status.idle": "2022-02-19T17:38:18.603590Z",
     "shell.execute_reply": "2022-02-19T17:38:18.604137Z"
    },
    "papermill": {
     "duration": 0.042304,
     "end_time": "2022-02-19T17:38:18.604360",
     "exception": false,
     "start_time": "2022-02-19T17:38:18.562056",
     "status": "completed"
    },
    "tags": []
   },
   "outputs": [],
   "source": [
    "#q4.hint()\n",
    "#q4.solution()"
   ]
  },
  {
   "cell_type": "markdown",
   "id": "755ea59a",
   "metadata": {
    "papermill": {
     "duration": 0.035186,
     "end_time": "2022-02-19T17:38:18.674501",
     "exception": false,
     "start_time": "2022-02-19T17:38:18.639315",
     "status": "completed"
    },
    "tags": []
   },
   "source": [
    "## 5.\n",
    "I'm an economical wine buyer. Which wine is the \"best bargain\"? Create a variable `bargain_wine` with the title of the wine with the highest points-to-price ratio in the dataset."
   ]
  },
  {
   "cell_type": "code",
   "execution_count": 10,
   "id": "a186cfc6",
   "metadata": {
    "execution": {
     "iopub.execute_input": "2022-02-19T17:38:18.741101Z",
     "iopub.status.busy": "2022-02-19T17:38:18.740308Z",
     "iopub.status.idle": "2022-02-19T17:38:18.753751Z",
     "shell.execute_reply": "2022-02-19T17:38:18.754252Z",
     "shell.execute_reply.started": "2022-02-19T17:24:06.215046Z"
    },
    "papermill": {
     "duration": 0.048019,
     "end_time": "2022-02-19T17:38:18.754434",
     "exception": false,
     "start_time": "2022-02-19T17:38:18.706415",
     "status": "completed"
    },
    "tags": []
   },
   "outputs": [
    {
     "data": {
      "application/javascript": [
       "parent.postMessage({\"jupyterEvent\": \"custom.exercise_interaction\", \"data\": {\"outcomeType\": 1, \"valueTowardsCompletion\": 0.14285714285714285, \"interactionType\": 1, \"questionType\": 2, \"questionId\": \"5_BargainWine\", \"learnToolsVersion\": \"0.3.4\", \"failureMessage\": \"\", \"exceptionClass\": \"\", \"trace\": \"\"}}, \"*\")"
      ],
      "text/plain": [
       "<IPython.core.display.Javascript object>"
      ]
     },
     "metadata": {},
     "output_type": "display_data"
    },
    {
     "data": {
      "text/markdown": [
       "<span style=\"color:#33cc33\">Correct</span>"
      ],
      "text/plain": [
       "Correct"
      ]
     },
     "metadata": {},
     "output_type": "display_data"
    },
    {
     "data": {
      "text/plain": [
       "'Bandit NV Merlot (California)'"
      ]
     },
     "execution_count": 10,
     "metadata": {},
     "output_type": "execute_result"
    }
   ],
   "source": [
    "bargain_idx = (reviews.points / reviews.price).idxmax()\n",
    "bargain_wine = reviews.loc[bargain_idx, 'title']\n",
    "\n",
    "# Check your answer\n",
    "q5.check()\n",
    "bargain_wine"
   ]
  },
  {
   "cell_type": "code",
   "execution_count": 11,
   "id": "d4e36deb",
   "metadata": {
    "execution": {
     "iopub.execute_input": "2022-02-19T17:38:18.823751Z",
     "iopub.status.busy": "2022-02-19T17:38:18.823079Z",
     "iopub.status.idle": "2022-02-19T17:38:18.825627Z",
     "shell.execute_reply": "2022-02-19T17:38:18.826174Z",
     "shell.execute_reply.started": "2022-02-19T17:23:21.877348Z"
    },
    "papermill": {
     "duration": 0.039462,
     "end_time": "2022-02-19T17:38:18.826357",
     "exception": false,
     "start_time": "2022-02-19T17:38:18.786895",
     "status": "completed"
    },
    "tags": []
   },
   "outputs": [],
   "source": [
    "#q5.hint()\n",
    "#q5.solution()"
   ]
  },
  {
   "cell_type": "markdown",
   "id": "854d0c30",
   "metadata": {
    "papermill": {
     "duration": 0.03252,
     "end_time": "2022-02-19T17:38:18.890629",
     "exception": false,
     "start_time": "2022-02-19T17:38:18.858109",
     "status": "completed"
    },
    "tags": []
   },
   "source": [
    "## 6.\n",
    "There are only so many words you can use when describing a bottle of wine. Is a wine more likely to be \"tropical\" or \"fruity\"? Create a Series `descriptor_counts` counting how many times each of these two words appears in the `description` column in the dataset. (For simplicity, let's ignore the capitalized versions of these words.)"
   ]
  },
  {
   "cell_type": "code",
   "execution_count": 12,
   "id": "32317315",
   "metadata": {
    "execution": {
     "iopub.execute_input": "2022-02-19T17:38:18.975889Z",
     "iopub.status.busy": "2022-02-19T17:38:18.970241Z",
     "iopub.status.idle": "2022-02-19T17:38:19.120286Z",
     "shell.execute_reply": "2022-02-19T17:38:19.120851Z",
     "shell.execute_reply.started": "2022-02-19T17:33:37.372760Z"
    },
    "papermill": {
     "duration": 0.197379,
     "end_time": "2022-02-19T17:38:19.121051",
     "exception": false,
     "start_time": "2022-02-19T17:38:18.923672",
     "status": "completed"
    },
    "tags": []
   },
   "outputs": [
    {
     "data": {
      "application/javascript": [
       "parent.postMessage({\"jupyterEvent\": \"custom.exercise_interaction\", \"data\": {\"outcomeType\": 1, \"valueTowardsCompletion\": 0.14285714285714285, \"interactionType\": 1, \"questionType\": 1, \"questionId\": \"6_DescriptorCounts\", \"learnToolsVersion\": \"0.3.4\", \"failureMessage\": \"\", \"exceptionClass\": \"\", \"trace\": \"\"}}, \"*\")"
      ],
      "text/plain": [
       "<IPython.core.display.Javascript object>"
      ]
     },
     "metadata": {},
     "output_type": "display_data"
    },
    {
     "data": {
      "text/markdown": [
       "<span style=\"color:#33cc33\">Correct</span>"
      ],
      "text/plain": [
       "Correct"
      ]
     },
     "metadata": {},
     "output_type": "display_data"
    },
    {
     "data": {
      "text/plain": [
       "tropical    3607\n",
       "fruity      9090\n",
       "dtype: int64"
      ]
     },
     "execution_count": 12,
     "metadata": {},
     "output_type": "execute_result"
    }
   ],
   "source": [
    "n_tropical = reviews.description.map(lambda desc: \"tropical\" in desc).sum()\n",
    "n_fruity = reviews.description.map(lambda desc: \"fruity\" in desc).sum()\n",
    "descriptor_counts = pd.Series([n_tropical, n_fruity], index=['tropical', 'fruity'])\n",
    "\n",
    "# Check your answer\n",
    "q6.check()\n",
    "descriptor_counts"
   ]
  },
  {
   "cell_type": "code",
   "execution_count": 13,
   "id": "d71539a5",
   "metadata": {
    "execution": {
     "iopub.execute_input": "2022-02-19T17:38:19.196127Z",
     "iopub.status.busy": "2022-02-19T17:38:19.195442Z",
     "iopub.status.idle": "2022-02-19T17:38:19.198462Z",
     "shell.execute_reply": "2022-02-19T17:38:19.199093Z",
     "shell.execute_reply.started": "2022-02-19T17:30:44.648854Z"
    },
    "papermill": {
     "duration": 0.041267,
     "end_time": "2022-02-19T17:38:19.199263",
     "exception": false,
     "start_time": "2022-02-19T17:38:19.157996",
     "status": "completed"
    },
    "tags": []
   },
   "outputs": [],
   "source": [
    "#q6.hint()\n",
    "#q6.solution()"
   ]
  },
  {
   "cell_type": "markdown",
   "id": "c159a1e5",
   "metadata": {
    "papermill": {
     "duration": 0.033315,
     "end_time": "2022-02-19T17:38:19.266214",
     "exception": false,
     "start_time": "2022-02-19T17:38:19.232899",
     "status": "completed"
    },
    "tags": []
   },
   "source": [
    "## 7.\n",
    "We'd like to host these wine reviews on our website, but a rating system ranging from 80 to 100 points is too hard to understand - we'd like to translate them into simple star ratings. A score of 95 or higher counts as 3 stars, a score of at least 85 but less than 95 is 2 stars. Any other score is 1 star.\n",
    "\n",
    "Also, the Canadian Vintners Association bought a lot of ads on the site, so any wines from Canada should automatically get 3 stars, regardless of points.\n",
    "\n",
    "Create a series `star_ratings` with the number of stars corresponding to each review in the dataset."
   ]
  },
  {
   "cell_type": "code",
   "execution_count": 14,
   "id": "d6b40af3",
   "metadata": {
    "execution": {
     "iopub.execute_input": "2022-02-19T17:38:19.344728Z",
     "iopub.status.busy": "2022-02-19T17:38:19.341276Z",
     "iopub.status.idle": "2022-02-19T17:38:24.769268Z",
     "shell.execute_reply": "2022-02-19T17:38:24.768590Z",
     "shell.execute_reply.started": "2022-02-19T17:36:02.277720Z"
    },
    "papermill": {
     "duration": 5.465807,
     "end_time": "2022-02-19T17:38:24.769445",
     "exception": false,
     "start_time": "2022-02-19T17:38:19.303638",
     "status": "completed"
    },
    "tags": []
   },
   "outputs": [
    {
     "data": {
      "application/javascript": [
       "parent.postMessage({\"jupyterEvent\": \"custom.exercise_interaction\", \"data\": {\"outcomeType\": 1, \"valueTowardsCompletion\": 0.14285714285714285, \"interactionType\": 1, \"questionType\": 1, \"questionId\": \"7_StarRatings\", \"learnToolsVersion\": \"0.3.4\", \"failureMessage\": \"\", \"exceptionClass\": \"\", \"trace\": \"\"}}, \"*\")"
      ],
      "text/plain": [
       "<IPython.core.display.Javascript object>"
      ]
     },
     "metadata": {},
     "output_type": "display_data"
    },
    {
     "data": {
      "text/markdown": [
       "<span style=\"color:#33cc33\">Correct</span>"
      ],
      "text/plain": [
       "Correct"
      ]
     },
     "metadata": {},
     "output_type": "display_data"
    }
   ],
   "source": [
    "def stars(row):\n",
    "    if row.country == 'Canada':\n",
    "        return 3\n",
    "    elif row.points >= 95:\n",
    "        return 3\n",
    "    elif row.points >= 85:\n",
    "        return 2\n",
    "    else:\n",
    "        return 1\n",
    "\n",
    "star_ratings = reviews.apply(stars, axis='columns')\n",
    "\n",
    "# Check your answer\n",
    "q7.check()"
   ]
  },
  {
   "cell_type": "code",
   "execution_count": 15,
   "id": "256c3edb",
   "metadata": {
    "execution": {
     "iopub.execute_input": "2022-02-19T17:38:24.859724Z",
     "iopub.status.busy": "2022-02-19T17:38:24.858557Z",
     "iopub.status.idle": "2022-02-19T17:38:24.862110Z",
     "shell.execute_reply": "2022-02-19T17:38:24.861386Z",
     "shell.execute_reply.started": "2022-02-19T17:36:15.084422Z"
    },
    "papermill": {
     "duration": 0.052049,
     "end_time": "2022-02-19T17:38:24.862265",
     "exception": false,
     "start_time": "2022-02-19T17:38:24.810216",
     "status": "completed"
    },
    "tags": []
   },
   "outputs": [],
   "source": [
    "#q7.hint()\n",
    "#q7.solution()"
   ]
  },
  {
   "cell_type": "markdown",
   "id": "18556192",
   "metadata": {
    "papermill": {
     "duration": 0.04528,
     "end_time": "2022-02-19T17:38:24.949831",
     "exception": false,
     "start_time": "2022-02-19T17:38:24.904551",
     "status": "completed"
    },
    "tags": []
   },
   "source": [
    "# Keep going\n",
    "Continue to **[grouping and sorting](https://www.kaggle.com/residentmario/grouping-and-sorting)**."
   ]
  },
  {
   "cell_type": "markdown",
   "id": "9fd1066e",
   "metadata": {
    "papermill": {
     "duration": 0.040682,
     "end_time": "2022-02-19T17:38:25.033392",
     "exception": false,
     "start_time": "2022-02-19T17:38:24.992710",
     "status": "completed"
    },
    "tags": []
   },
   "source": [
    "---\n",
    "\n",
    "\n",
    "\n",
    "\n",
    "*Have questions or comments? Visit the [course discussion forum](https://www.kaggle.com/learn/pandas/discussion) to chat with other learners.*"
   ]
  }
 ],
 "metadata": {
  "kernelspec": {
   "display_name": "Python 3",
   "language": "python",
   "name": "python3"
  },
  "language_info": {
   "codemirror_mode": {
    "name": "ipython",
    "version": 3
   },
   "file_extension": ".py",
   "mimetype": "text/x-python",
   "name": "python",
   "nbconvert_exporter": "python",
   "pygments_lexer": "ipython3",
   "version": "3.7.12"
  },
  "papermill": {
   "default_parameters": {},
   "duration": 31.094851,
   "end_time": "2022-02-19T17:38:25.887975",
   "environment_variables": {},
   "exception": null,
   "input_path": "__notebook__.ipynb",
   "output_path": "__notebook__.ipynb",
   "parameters": {},
   "start_time": "2022-02-19T17:37:54.793124",
   "version": "2.3.3"
  }
 },
 "nbformat": 4,
 "nbformat_minor": 5
}
