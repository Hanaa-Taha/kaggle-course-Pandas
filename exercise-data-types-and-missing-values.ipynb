{
 "cells": [
  {
   "cell_type": "markdown",
   "id": "09f8fe62",
   "metadata": {
    "papermill": {
     "duration": 0.018008,
     "end_time": "2022-02-20T19:04:42.291651",
     "exception": false,
     "start_time": "2022-02-20T19:04:42.273643",
     "status": "completed"
    },
    "tags": []
   },
   "source": [
    "**This notebook is an exercise in the [Pandas](https://www.kaggle.com/learn/pandas) course.  You can reference the tutorial at [this link](https://www.kaggle.com/residentmario/data-types-and-missing-values).**\n",
    "\n",
    "---\n"
   ]
  },
  {
   "cell_type": "markdown",
   "id": "7f6596a7",
   "metadata": {
    "papermill": {
     "duration": 0.015272,
     "end_time": "2022-02-20T19:04:42.323199",
     "exception": false,
     "start_time": "2022-02-20T19:04:42.307927",
     "status": "completed"
    },
    "tags": []
   },
   "source": [
    "# Introduction\n",
    "\n",
    "Run the following cell to load your data and some utility functions."
   ]
  },
  {
   "cell_type": "code",
   "execution_count": 1,
   "id": "34816578",
   "metadata": {
    "execution": {
     "iopub.execute_input": "2022-02-20T19:04:42.359434Z",
     "iopub.status.busy": "2022-02-20T19:04:42.358154Z",
     "iopub.status.idle": "2022-02-20T19:04:45.393515Z",
     "shell.execute_reply": "2022-02-20T19:04:45.394026Z",
     "shell.execute_reply.started": "2022-02-20T18:52:44.709221Z"
    },
    "papermill": {
     "duration": 3.055625,
     "end_time": "2022-02-20T19:04:45.394360",
     "exception": false,
     "start_time": "2022-02-20T19:04:42.338735",
     "status": "completed"
    },
    "tags": []
   },
   "outputs": [
    {
     "name": "stdout",
     "output_type": "stream",
     "text": [
      "Setup complete.\n"
     ]
    }
   ],
   "source": [
    "import pandas as pd\n",
    "\n",
    "reviews = pd.read_csv(\"../input/wine-reviews/winemag-data-130k-v2.csv\", index_col=0)\n",
    "\n",
    "from learntools.core import binder; binder.bind(globals())\n",
    "from learntools.pandas.data_types_and_missing_data import *\n",
    "print(\"Setup complete.\")\n"
   ]
  },
  {
   "cell_type": "markdown",
   "id": "e107f454",
   "metadata": {
    "papermill": {
     "duration": 0.015357,
     "end_time": "2022-02-20T19:04:45.425792",
     "exception": false,
     "start_time": "2022-02-20T19:04:45.410435",
     "status": "completed"
    },
    "tags": []
   },
   "source": [
    "# Exercises"
   ]
  },
  {
   "cell_type": "markdown",
   "id": "1879e583",
   "metadata": {
    "papermill": {
     "duration": 0.016166,
     "end_time": "2022-02-20T19:04:45.457928",
     "exception": false,
     "start_time": "2022-02-20T19:04:45.441762",
     "status": "completed"
    },
    "tags": []
   },
   "source": [
    "## 1. \n",
    "What is the data type of the `points` column in the dataset?"
   ]
  },
  {
   "cell_type": "code",
   "execution_count": 2,
   "id": "c32066f3",
   "metadata": {
    "execution": {
     "iopub.execute_input": "2022-02-20T19:04:45.493475Z",
     "iopub.status.busy": "2022-02-20T19:04:45.492748Z",
     "iopub.status.idle": "2022-02-20T19:04:45.505424Z",
     "shell.execute_reply": "2022-02-20T19:04:45.506002Z",
     "shell.execute_reply.started": "2022-02-20T18:52:57.011326Z"
    },
    "papermill": {
     "duration": 0.032089,
     "end_time": "2022-02-20T19:04:45.506166",
     "exception": false,
     "start_time": "2022-02-20T19:04:45.474077",
     "status": "completed"
    },
    "tags": []
   },
   "outputs": [
    {
     "data": {
      "application/javascript": [
       "parent.postMessage({\"jupyterEvent\": \"custom.exercise_interaction\", \"data\": {\"outcomeType\": 1, \"valueTowardsCompletion\": 0.25, \"interactionType\": 1, \"questionType\": 1, \"questionId\": \"1_PointsDtype\", \"learnToolsVersion\": \"0.3.4\", \"failureMessage\": \"\", \"exceptionClass\": \"\", \"trace\": \"\"}}, \"*\")"
      ],
      "text/plain": [
       "<IPython.core.display.Javascript object>"
      ]
     },
     "metadata": {},
     "output_type": "display_data"
    },
    {
     "data": {
      "text/markdown": [
       "<span style=\"color:#33cc33\">Correct</span>"
      ],
      "text/plain": [
       "Correct"
      ]
     },
     "metadata": {},
     "output_type": "display_data"
    },
    {
     "data": {
      "text/plain": [
       "dtype('int64')"
      ]
     },
     "execution_count": 2,
     "metadata": {},
     "output_type": "execute_result"
    }
   ],
   "source": [
    "# Your code here\n",
    "dtype = reviews.points.dtype\n",
    "\n",
    "# Check your answer\n",
    "q1.check()\n",
    "dtype"
   ]
  },
  {
   "cell_type": "code",
   "execution_count": 3,
   "id": "44204abe",
   "metadata": {
    "execution": {
     "iopub.execute_input": "2022-02-20T19:04:45.543697Z",
     "iopub.status.busy": "2022-02-20T19:04:45.542888Z",
     "iopub.status.idle": "2022-02-20T19:04:45.545790Z",
     "shell.execute_reply": "2022-02-20T19:04:45.546551Z"
    },
    "papermill": {
     "duration": 0.023553,
     "end_time": "2022-02-20T19:04:45.546743",
     "exception": false,
     "start_time": "2022-02-20T19:04:45.523190",
     "status": "completed"
    },
    "tags": []
   },
   "outputs": [],
   "source": [
    "#q1.hint()\n",
    "#q1.solution()"
   ]
  },
  {
   "cell_type": "markdown",
   "id": "9d631bf0",
   "metadata": {
    "papermill": {
     "duration": 0.018188,
     "end_time": "2022-02-20T19:04:45.585269",
     "exception": false,
     "start_time": "2022-02-20T19:04:45.567081",
     "status": "completed"
    },
    "tags": []
   },
   "source": [
    "## 2. \n",
    "Create a Series from entries in the `points` column, but convert the entries to strings. Hint: strings are `str` in native Python."
   ]
  },
  {
   "cell_type": "code",
   "execution_count": 4,
   "id": "b31dbae0",
   "metadata": {
    "execution": {
     "iopub.execute_input": "2022-02-20T19:04:45.625202Z",
     "iopub.status.busy": "2022-02-20T19:04:45.624502Z",
     "iopub.status.idle": "2022-02-20T19:04:45.780823Z",
     "shell.execute_reply": "2022-02-20T19:04:45.781335Z",
     "shell.execute_reply.started": "2022-02-20T18:53:02.766814Z"
    },
    "papermill": {
     "duration": 0.177854,
     "end_time": "2022-02-20T19:04:45.781521",
     "exception": false,
     "start_time": "2022-02-20T19:04:45.603667",
     "status": "completed"
    },
    "tags": []
   },
   "outputs": [
    {
     "data": {
      "application/javascript": [
       "parent.postMessage({\"jupyterEvent\": \"custom.exercise_interaction\", \"data\": {\"outcomeType\": 1, \"valueTowardsCompletion\": 0.25, \"interactionType\": 1, \"questionType\": 1, \"questionId\": \"2_StrPoints\", \"learnToolsVersion\": \"0.3.4\", \"failureMessage\": \"\", \"exceptionClass\": \"\", \"trace\": \"\"}}, \"*\")"
      ],
      "text/plain": [
       "<IPython.core.display.Javascript object>"
      ]
     },
     "metadata": {},
     "output_type": "display_data"
    },
    {
     "data": {
      "text/markdown": [
       "<span style=\"color:#33cc33\">Correct</span>"
      ],
      "text/plain": [
       "Correct"
      ]
     },
     "metadata": {},
     "output_type": "display_data"
    },
    {
     "data": {
      "text/plain": [
       "0         87\n",
       "1         87\n",
       "2         87\n",
       "3         87\n",
       "4         87\n",
       "          ..\n",
       "129966    90\n",
       "129967    90\n",
       "129968    90\n",
       "129969    90\n",
       "129970    90\n",
       "Name: points, Length: 129971, dtype: object"
      ]
     },
     "execution_count": 4,
     "metadata": {},
     "output_type": "execute_result"
    }
   ],
   "source": [
    "point_strings = reviews.points.astype('str')\n",
    "reviews.points.dtype\n",
    "# Check your answer\n",
    "q2.check()\n",
    "point_strings\n"
   ]
  },
  {
   "cell_type": "code",
   "execution_count": 5,
   "id": "db744c61",
   "metadata": {
    "execution": {
     "iopub.execute_input": "2022-02-20T19:04:45.822628Z",
     "iopub.status.busy": "2022-02-20T19:04:45.821758Z",
     "iopub.status.idle": "2022-02-20T19:04:45.824679Z",
     "shell.execute_reply": "2022-02-20T19:04:45.825125Z"
    },
    "papermill": {
     "duration": 0.024985,
     "end_time": "2022-02-20T19:04:45.825312",
     "exception": false,
     "start_time": "2022-02-20T19:04:45.800327",
     "status": "completed"
    },
    "tags": []
   },
   "outputs": [],
   "source": [
    "#q2.hint()\n",
    "#q2.solution()"
   ]
  },
  {
   "cell_type": "markdown",
   "id": "ee15caf3",
   "metadata": {
    "papermill": {
     "duration": 0.018712,
     "end_time": "2022-02-20T19:04:45.863138",
     "exception": false,
     "start_time": "2022-02-20T19:04:45.844426",
     "status": "completed"
    },
    "tags": []
   },
   "source": [
    "## 3.\n",
    "Sometimes the price column is null. How many reviews in the dataset are missing a price?"
   ]
  },
  {
   "cell_type": "code",
   "execution_count": 6,
   "id": "e2b477e7",
   "metadata": {
    "execution": {
     "iopub.execute_input": "2022-02-20T19:04:45.908405Z",
     "iopub.status.busy": "2022-02-20T19:04:45.907389Z",
     "iopub.status.idle": "2022-02-20T19:04:45.915799Z",
     "shell.execute_reply": "2022-02-20T19:04:45.916257Z",
     "shell.execute_reply.started": "2022-02-20T18:56:32.153771Z"
    },
    "papermill": {
     "duration": 0.034091,
     "end_time": "2022-02-20T19:04:45.916429",
     "exception": false,
     "start_time": "2022-02-20T19:04:45.882338",
     "status": "completed"
    },
    "tags": []
   },
   "outputs": [
    {
     "data": {
      "application/javascript": [
       "parent.postMessage({\"jupyterEvent\": \"custom.exercise_interaction\", \"data\": {\"outcomeType\": 1, \"valueTowardsCompletion\": 0.25, \"interactionType\": 1, \"questionType\": 1, \"questionId\": \"3_CountMissingPrices\", \"learnToolsVersion\": \"0.3.4\", \"failureMessage\": \"\", \"exceptionClass\": \"\", \"trace\": \"\"}}, \"*\")"
      ],
      "text/plain": [
       "<IPython.core.display.Javascript object>"
      ]
     },
     "metadata": {},
     "output_type": "display_data"
    },
    {
     "data": {
      "text/markdown": [
       "<span style=\"color:#33cc33\">Correct</span>"
      ],
      "text/plain": [
       "Correct"
      ]
     },
     "metadata": {},
     "output_type": "display_data"
    },
    {
     "data": {
      "text/plain": [
       "8996"
      ]
     },
     "execution_count": 6,
     "metadata": {},
     "output_type": "execute_result"
    }
   ],
   "source": [
    "\n",
    "n_missing_prices = reviews.price.isnull().sum()\n",
    "\n",
    "\n",
    "#Check your answer\n",
    "q3.check()\n",
    "n_missing_prices"
   ]
  },
  {
   "cell_type": "code",
   "execution_count": 7,
   "id": "931f4372",
   "metadata": {
    "execution": {
     "iopub.execute_input": "2022-02-20T19:04:45.964386Z",
     "iopub.status.busy": "2022-02-20T19:04:45.963556Z",
     "iopub.status.idle": "2022-02-20T19:04:45.966476Z",
     "shell.execute_reply": "2022-02-20T19:04:45.965947Z",
     "shell.execute_reply.started": "2022-02-20T18:56:21.860460Z"
    },
    "papermill": {
     "duration": 0.028213,
     "end_time": "2022-02-20T19:04:45.966611",
     "exception": false,
     "start_time": "2022-02-20T19:04:45.938398",
     "status": "completed"
    },
    "tags": []
   },
   "outputs": [],
   "source": [
    "#q3.hint()\n",
    "#q3.solution()"
   ]
  },
  {
   "cell_type": "markdown",
   "id": "a961e378",
   "metadata": {
    "papermill": {
     "duration": 0.020341,
     "end_time": "2022-02-20T19:04:46.007499",
     "exception": false,
     "start_time": "2022-02-20T19:04:45.987158",
     "status": "completed"
    },
    "tags": []
   },
   "source": [
    "## 4.\n",
    "What are the most common wine-producing regions? Create a Series counting the number of times each value occurs in the `region_1` field. This field is often missing data, so replace missing values with `Unknown`. Sort in descending order.  Your output should look something like this:\n",
    "\n",
    "```\n",
    "Unknown                    21247\n",
    "Napa Valley                 4480\n",
    "                           ...  \n",
    "Bardolino Superiore            1\n",
    "Primitivo del Tarantino        1\n",
    "Name: region_1, Length: 1230, dtype: int64\n",
    "```"
   ]
  },
  {
   "cell_type": "code",
   "execution_count": 8,
   "id": "de438056",
   "metadata": {
    "execution": {
     "iopub.execute_input": "2022-02-20T19:04:46.086842Z",
     "iopub.status.busy": "2022-02-20T19:04:46.066113Z",
     "iopub.status.idle": "2022-02-20T19:04:46.132196Z",
     "shell.execute_reply": "2022-02-20T19:04:46.131685Z",
     "shell.execute_reply.started": "2022-02-20T19:03:48.831770Z"
    },
    "papermill": {
     "duration": 0.103728,
     "end_time": "2022-02-20T19:04:46.132367",
     "exception": false,
     "start_time": "2022-02-20T19:04:46.028639",
     "status": "completed"
    },
    "tags": []
   },
   "outputs": [
    {
     "data": {
      "application/javascript": [
       "parent.postMessage({\"jupyterEvent\": \"custom.exercise_interaction\", \"data\": {\"outcomeType\": 1, \"valueTowardsCompletion\": 0.25, \"interactionType\": 1, \"questionType\": 2, \"questionId\": \"4_ReviewsPerRegion\", \"learnToolsVersion\": \"0.3.4\", \"failureMessage\": \"\", \"exceptionClass\": \"\", \"trace\": \"\"}}, \"*\")"
      ],
      "text/plain": [
       "<IPython.core.display.Javascript object>"
      ]
     },
     "metadata": {},
     "output_type": "display_data"
    },
    {
     "data": {
      "text/markdown": [
       "<span style=\"color:#33cc33\">Correct</span>"
      ],
      "text/plain": [
       "Correct"
      ]
     },
     "metadata": {},
     "output_type": "display_data"
    },
    {
     "data": {
      "text/plain": [
       "Unknown                 21247\n",
       "Napa Valley              4480\n",
       "Columbia Valley (WA)     4124\n",
       "Russian River Valley     3091\n",
       "California               2629\n",
       "                        ...  \n",
       "Offida Rosso                1\n",
       "Corton Perrières            1\n",
       "Isle St. George             1\n",
       "Geelong                     1\n",
       "Paestum                     1\n",
       "Name: region_1, Length: 1230, dtype: int64"
      ]
     },
     "execution_count": 8,
     "metadata": {},
     "output_type": "execute_result"
    }
   ],
   "source": [
    "reviews_per_region = reviews.region_1.fillna('Unknown').value_counts().sort_values(ascending=False)\n",
    "\n",
    "# Check your answer\n",
    "q4.check()\n",
    "reviews_per_region"
   ]
  },
  {
   "cell_type": "code",
   "execution_count": 9,
   "id": "90e801c9",
   "metadata": {
    "execution": {
     "iopub.execute_input": "2022-02-20T19:04:46.181911Z",
     "iopub.status.busy": "2022-02-20T19:04:46.181140Z",
     "iopub.status.idle": "2022-02-20T19:04:46.184296Z",
     "shell.execute_reply": "2022-02-20T19:04:46.183769Z",
     "shell.execute_reply.started": "2022-02-20T19:03:56.616880Z"
    },
    "papermill": {
     "duration": 0.029681,
     "end_time": "2022-02-20T19:04:46.184439",
     "exception": false,
     "start_time": "2022-02-20T19:04:46.154758",
     "status": "completed"
    },
    "tags": []
   },
   "outputs": [],
   "source": [
    "#q4.hint()\n",
    "#q4.solution()"
   ]
  },
  {
   "cell_type": "markdown",
   "id": "bdd9dccb",
   "metadata": {
    "papermill": {
     "duration": 0.022205,
     "end_time": "2022-02-20T19:04:46.229313",
     "exception": false,
     "start_time": "2022-02-20T19:04:46.207108",
     "status": "completed"
    },
    "tags": []
   },
   "source": [
    "# Keep going\n",
    "\n",
    "Move on to **[renaming and combining](https://www.kaggle.com/residentmario/renaming-and-combining)**."
   ]
  },
  {
   "cell_type": "markdown",
   "id": "81945a42",
   "metadata": {
    "papermill": {
     "duration": 0.021999,
     "end_time": "2022-02-20T19:04:46.273861",
     "exception": false,
     "start_time": "2022-02-20T19:04:46.251862",
     "status": "completed"
    },
    "tags": []
   },
   "source": [
    "---\n",
    "\n",
    "\n",
    "\n",
    "\n",
    "*Have questions or comments? Visit the [course discussion forum](https://www.kaggle.com/learn/pandas/discussion) to chat with other learners.*"
   ]
  }
 ],
 "metadata": {
  "kernelspec": {
   "display_name": "Python 3",
   "language": "python",
   "name": "python3"
  },
  "language_info": {
   "codemirror_mode": {
    "name": "ipython",
    "version": 3
   },
   "file_extension": ".py",
   "mimetype": "text/x-python",
   "name": "python",
   "nbconvert_exporter": "python",
   "pygments_lexer": "ipython3",
   "version": "3.7.12"
  },
  "papermill": {
   "default_parameters": {},
   "duration": 14.997803,
   "end_time": "2022-02-20T19:04:47.007563",
   "environment_variables": {},
   "exception": null,
   "input_path": "__notebook__.ipynb",
   "output_path": "__notebook__.ipynb",
   "parameters": {},
   "start_time": "2022-02-20T19:04:32.009760",
   "version": "2.3.3"
  }
 },
 "nbformat": 4,
 "nbformat_minor": 5
}
